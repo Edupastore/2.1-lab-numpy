{
 "cells": [
  {
   "cell_type": "markdown",
   "id": "0f16c36f",
   "metadata": {},
   "source": [
    "#1. Import the NUMPY package under the name np."
   ]
  },
  {
   "cell_type": "code",
   "execution_count": 1,
   "id": "0654f02b",
   "metadata": {},
   "outputs": [
    {
     "name": "stdout",
     "output_type": "stream",
     "text": [
      "Requirement already satisfied: numpy in c:\\users\\edward46\\anaconda3\\lib\\site-packages (1.21.5)Note: you may need to restart the kernel to use updated packages.\n",
      "\n"
     ]
    }
   ],
   "source": [
    "%pip install numpy"
   ]
  },
  {
   "cell_type": "code",
   "execution_count": 3,
   "id": "be4a8ae0",
   "metadata": {},
   "outputs": [],
   "source": [
    "import numpy as np"
   ]
  },
  {
   "cell_type": "markdown",
   "id": "751fbfd3",
   "metadata": {},
   "source": [
    "#2. Print the NUMPY version and the configuration."
   ]
  },
  {
   "cell_type": "code",
   "execution_count": 4,
   "id": "edd9753d",
   "metadata": {},
   "outputs": [
    {
     "name": "stdout",
     "output_type": "stream",
     "text": [
      "1.21.5\n"
     ]
    }
   ],
   "source": [
    "print(np.version.version)"
   ]
  },
  {
   "cell_type": "markdown",
   "id": "e61a3017",
   "metadata": {},
   "source": [
    "#3. Generate a 2x3x5 3-dimensional array with random values. Assign the array to variable \"a\"\n",
    "# Challenge: there are at least three easy ways that use numpy to generate random arrays. How many ways can you find?"
   ]
  },
  {
   "cell_type": "code",
   "execution_count": 9,
   "id": "12317ff4",
   "metadata": {},
   "outputs": [],
   "source": [
    "a = np.random.random((2, 3, 5))"
   ]
  },
  {
   "cell_type": "markdown",
   "id": "ba1ae133",
   "metadata": {},
   "source": [
    "#4. Print a."
   ]
  },
  {
   "cell_type": "code",
   "execution_count": 11,
   "id": "f716253a",
   "metadata": {},
   "outputs": [
    {
     "name": "stdout",
     "output_type": "stream",
     "text": [
      "[[[0.1822992  0.63465322 0.64998593 0.81772455 0.36070156]\n",
      "  [0.31275774 0.4867003  0.30388294 0.26910119 0.61057882]\n",
      "  [0.12503929 0.95901565 0.84832065 0.37970974 0.25333785]]\n",
      "\n",
      " [[0.43292338 0.15178754 0.84084946 0.01376911 0.66171767]\n",
      "  [0.07296117 0.20582662 0.20595915 0.54852169 0.66175046]\n",
      "  [0.05165919 0.56208723 0.92849397 0.60024252 0.24255197]]]\n"
     ]
    }
   ],
   "source": [
    "print(a)"
   ]
  },
  {
   "cell_type": "markdown",
   "id": "bbd58240",
   "metadata": {},
   "source": [
    "#5. Create a 5x2x3 3-dimensional array with all values equaling 1.\n",
    "#Assign the array to variable \"b\""
   ]
  },
  {
   "cell_type": "code",
   "execution_count": 12,
   "id": "7a72a7c2",
   "metadata": {},
   "outputs": [],
   "source": [
    "b = np.ones((5, 2, 3))"
   ]
  },
  {
   "cell_type": "markdown",
   "id": "87b1ee2d",
   "metadata": {},
   "source": [
    "#6. Print b."
   ]
  },
  {
   "cell_type": "code",
   "execution_count": 13,
   "id": "9de94a6b",
   "metadata": {},
   "outputs": [
    {
     "name": "stdout",
     "output_type": "stream",
     "text": [
      "[[[1. 1. 1.]\n",
      "  [1. 1. 1.]]\n",
      "\n",
      " [[1. 1. 1.]\n",
      "  [1. 1. 1.]]\n",
      "\n",
      " [[1. 1. 1.]\n",
      "  [1. 1. 1.]]\n",
      "\n",
      " [[1. 1. 1.]\n",
      "  [1. 1. 1.]]\n",
      "\n",
      " [[1. 1. 1.]\n",
      "  [1. 1. 1.]]]\n"
     ]
    }
   ],
   "source": [
    "print(b)"
   ]
  },
  {
   "cell_type": "markdown",
   "id": "c68c9794",
   "metadata": {},
   "source": [
    "#7. Do a and b have the same size? How do you prove that in Python code?"
   ]
  },
  {
   "cell_type": "code",
   "execution_count": 15,
   "id": "903030b4",
   "metadata": {},
   "outputs": [
    {
     "data": {
      "text/plain": [
       "30"
      ]
     },
     "execution_count": 15,
     "metadata": {},
     "output_type": "execute_result"
    }
   ],
   "source": [
    "a.size"
   ]
  },
  {
   "cell_type": "code",
   "execution_count": 16,
   "id": "9ce5061e",
   "metadata": {},
   "outputs": [
    {
     "data": {
      "text/plain": [
       "30"
      ]
     },
     "execution_count": 16,
     "metadata": {},
     "output_type": "execute_result"
    }
   ],
   "source": [
    "b.size"
   ]
  },
  {
   "cell_type": "markdown",
   "id": "1774308d",
   "metadata": {},
   "source": [
    "a and b have the same size."
   ]
  },
  {
   "cell_type": "markdown",
   "id": "eff3d75e",
   "metadata": {},
   "source": [
    "#8. Are you able to add a and b? Why or why not?"
   ]
  },
  {
   "cell_type": "markdown",
   "id": "41fb4640",
   "metadata": {},
   "source": [
    "De primeras no, pero haciendo un re shape de b se podría:"
   ]
  },
  {
   "cell_type": "code",
   "execution_count": 18,
   "id": "aebba664",
   "metadata": {},
   "outputs": [
    {
     "data": {
      "text/plain": [
       "array([[[1., 1., 1., 1., 1.],\n",
       "        [1., 1., 1., 1., 1.],\n",
       "        [1., 1., 1., 1., 1.]],\n",
       "\n",
       "       [[1., 1., 1., 1., 1.],\n",
       "        [1., 1., 1., 1., 1.],\n",
       "        [1., 1., 1., 1., 1.]]])"
      ]
     },
     "execution_count": 18,
     "metadata": {},
     "output_type": "execute_result"
    }
   ],
   "source": [
    "b.reshape(2, 3, 5)"
   ]
  },
  {
   "cell_type": "markdown",
   "id": "8bc7f4f7",
   "metadata": {},
   "source": [
    "#9. Transpose b so that it has the same structure of a (i.e. become a 2x3x5 array). Assign the transposed array to varialbe \"c\"."
   ]
  },
  {
   "cell_type": "code",
   "execution_count": 22,
   "id": "c7ec5f84",
   "metadata": {},
   "outputs": [],
   "source": [
    "c = b.reshape(2, 3, 5)"
   ]
  },
  {
   "cell_type": "markdown",
   "id": "dd8009fc",
   "metadata": {},
   "source": [
    "#10. Try to add a and c. Now it should work. Assign the sum to varialbe \"d\". But why does it work now?"
   ]
  },
  {
   "cell_type": "code",
   "execution_count": 24,
   "id": "741cd451",
   "metadata": {},
   "outputs": [
    {
     "data": {
      "text/plain": [
       "array([[[1.1822992 , 1.63465322, 1.64998593, 1.81772455, 1.36070156],\n",
       "        [1.31275774, 1.4867003 , 1.30388294, 1.26910119, 1.61057882],\n",
       "        [1.12503929, 1.95901565, 1.84832065, 1.37970974, 1.25333785]],\n",
       "\n",
       "       [[1.43292338, 1.15178754, 1.84084946, 1.01376911, 1.66171767],\n",
       "        [1.07296117, 1.20582662, 1.20595915, 1.54852169, 1.66175046],\n",
       "        [1.05165919, 1.56208723, 1.92849397, 1.60024252, 1.24255197]]])"
      ]
     },
     "execution_count": 24,
     "metadata": {},
     "output_type": "execute_result"
    }
   ],
   "source": [
    "np.add(a, c)"
   ]
  },
  {
   "cell_type": "code",
   "execution_count": 25,
   "id": "3f24e1e0",
   "metadata": {},
   "outputs": [],
   "source": [
    "d = np.add(a, c)"
   ]
  },
  {
   "cell_type": "markdown",
   "id": "48ae3988",
   "metadata": {},
   "source": [
    "Ahora funciona porque, tras el reshape, ambas matrices son de 2x3x5"
   ]
  },
  {
   "cell_type": "markdown",
   "id": "d14f20a9",
   "metadata": {},
   "source": [
    "#11. Print a and d. Notice the difference and relation of the two array in terms of the values? Explain."
   ]
  },
  {
   "cell_type": "code",
   "execution_count": 30,
   "id": "3503f457",
   "metadata": {},
   "outputs": [
    {
     "name": "stdout",
     "output_type": "stream",
     "text": [
      "[[[0.1822992  0.63465322 0.64998593 0.81772455 0.36070156]\n",
      "  [0.31275774 0.4867003  0.30388294 0.26910119 0.61057882]\n",
      "  [0.12503929 0.95901565 0.84832065 0.37970974 0.25333785]]\n",
      "\n",
      " [[0.43292338 0.15178754 0.84084946 0.01376911 0.66171767]\n",
      "  [0.07296117 0.20582662 0.20595915 0.54852169 0.66175046]\n",
      "  [0.05165919 0.56208723 0.92849397 0.60024252 0.24255197]]]\n"
     ]
    }
   ],
   "source": [
    "print(a)"
   ]
  },
  {
   "cell_type": "code",
   "execution_count": 31,
   "id": "4f70f828",
   "metadata": {},
   "outputs": [
    {
     "name": "stdout",
     "output_type": "stream",
     "text": [
      "[[[1.1822992  1.63465322 1.64998593 1.81772455 1.36070156]\n",
      "  [1.31275774 1.4867003  1.30388294 1.26910119 1.61057882]\n",
      "  [1.12503929 1.95901565 1.84832065 1.37970974 1.25333785]]\n",
      "\n",
      " [[1.43292338 1.15178754 1.84084946 1.01376911 1.66171767]\n",
      "  [1.07296117 1.20582662 1.20595915 1.54852169 1.66175046]\n",
      "  [1.05165919 1.56208723 1.92849397 1.60024252 1.24255197]]]\n"
     ]
    }
   ],
   "source": [
    "print(d)"
   ]
  },
  {
   "cell_type": "markdown",
   "id": "5369d654",
   "metadata": {},
   "source": [
    "como b era una matriz todo unos, al redimensionar en c, seguía siendo todo unos; como d es a + c, a todos los elementos\n",
    "de a se les ha sumado uno."
   ]
  },
  {
   "cell_type": "markdown",
   "id": "7349c50e",
   "metadata": {},
   "source": [
    "#12. Multiply a and c. Assign the result to e."
   ]
  },
  {
   "cell_type": "code",
   "execution_count": 33,
   "id": "f04f2eef",
   "metadata": {},
   "outputs": [
    {
     "data": {
      "text/plain": [
       "array([[[0.1822992 , 0.63465322, 0.64998593, 0.81772455, 0.36070156],\n",
       "        [0.31275774, 0.4867003 , 0.30388294, 0.26910119, 0.61057882],\n",
       "        [0.12503929, 0.95901565, 0.84832065, 0.37970974, 0.25333785]],\n",
       "\n",
       "       [[0.43292338, 0.15178754, 0.84084946, 0.01376911, 0.66171767],\n",
       "        [0.07296117, 0.20582662, 0.20595915, 0.54852169, 0.66175046],\n",
       "        [0.05165919, 0.56208723, 0.92849397, 0.60024252, 0.24255197]]])"
      ]
     },
     "execution_count": 33,
     "metadata": {},
     "output_type": "execute_result"
    }
   ],
   "source": [
    "np.multiply(a, c)"
   ]
  },
  {
   "cell_type": "markdown",
   "id": "dd480923",
   "metadata": {},
   "source": [
    "#13. Does e equal to a? Why or why not?"
   ]
  },
  {
   "cell_type": "markdown",
   "id": "d7687298",
   "metadata": {},
   "source": [
    "Sí, son iguales, todo número multiplicado por 1, da ese mismo número (y c es todo unos)"
   ]
  },
  {
   "cell_type": "markdown",
   "id": "eb750c81",
   "metadata": {},
   "source": [
    "#14. Identify the max, min, and mean values in d. Assign those values to variables \"d_max\", \"d_min\", and \"d_mean\""
   ]
  },
  {
   "cell_type": "code",
   "execution_count": 38,
   "id": "1c3480e2",
   "metadata": {},
   "outputs": [],
   "source": [
    "d_max = np.max(d)"
   ]
  },
  {
   "cell_type": "code",
   "execution_count": 39,
   "id": "7e2baf90",
   "metadata": {},
   "outputs": [],
   "source": [
    "d_min = np.min(d)"
   ]
  },
  {
   "cell_type": "code",
   "execution_count": 40,
   "id": "6de41b2b",
   "metadata": {},
   "outputs": [],
   "source": [
    "d_mean = np.mean(d)"
   ]
  },
  {
   "cell_type": "code",
   "execution_count": 43,
   "id": "e2bb7d41",
   "metadata": {},
   "outputs": [
    {
     "data": {
      "text/plain": [
       "1.9590156513046475"
      ]
     },
     "execution_count": 43,
     "metadata": {},
     "output_type": "execute_result"
    }
   ],
   "source": [
    "d_max"
   ]
  },
  {
   "cell_type": "code",
   "execution_count": 44,
   "id": "b3df0779",
   "metadata": {},
   "outputs": [
    {
     "data": {
      "text/plain": [
       "1.0137691148594672"
      ]
     },
     "execution_count": 44,
     "metadata": {},
     "output_type": "execute_result"
    }
   ],
   "source": [
    "d_min"
   ]
  },
  {
   "cell_type": "code",
   "execution_count": 45,
   "id": "18db3489",
   "metadata": {},
   "outputs": [
    {
     "data": {
      "text/plain": [
       "1.4458303261807801"
      ]
     },
     "execution_count": 45,
     "metadata": {},
     "output_type": "execute_result"
    }
   ],
   "source": [
    "d_mean"
   ]
  },
  {
   "cell_type": "markdown",
   "id": "c4526a0b",
   "metadata": {},
   "source": [
    "#15. Now we want to label the values in d. First create an empty array \"f\" with the same shape (i.e. 2x3x5) as d using `np.empty`."
   ]
  },
  {
   "cell_type": "code",
   "execution_count": 49,
   "id": "8f5db70c",
   "metadata": {},
   "outputs": [],
   "source": [
    "f = np.empty((2,3,5))"
   ]
  },
  {
   "cell_type": "markdown",
   "id": "2d942da7",
   "metadata": {},
   "source": [
    "#16. Populate the values in f. For each value in d, if it's larger than d_min but smaller than d_mean, assign 25 to the corresponding value in f.\n",
    "If a value in d is larger than d_mean but smaller than d_max, assign 75 to the corresponding value in f.\n",
    "If a value equals to d_mean, assign 50 to the corresponding value in f.\n",
    "Assign 0 to the corresponding value(s) in f for d_min in d.\n",
    "Assign 100 to the corresponding value(s) in f for d_max in d.\n",
    "In the end, f should have only the following values: 0, 25, 50, 75, and 100.\n",
    "Note: you don't have to use Numpy in this question."
   ]
  },
  {
   "cell_type": "code",
   "execution_count": 51,
   "id": "8c18784b",
   "metadata": {},
   "outputs": [
    {
     "name": "stdout",
     "output_type": "stream",
     "text": [
      "[[[1.1822992  1.63465322 1.64998593 1.81772455 1.36070156]\n",
      "  [1.31275774 1.4867003  1.30388294 1.26910119 1.61057882]\n",
      "  [1.12503929 1.95901565 1.84832065 1.37970974 1.25333785]]\n",
      "\n",
      " [[1.43292338 1.15178754 1.84084946 1.01376911 1.66171767]\n",
      "  [1.07296117 1.20582662 1.20595915 1.54852169 1.66175046]\n",
      "  [1.05165919 1.56208723 1.92849397 1.60024252 1.24255197]]]\n"
     ]
    }
   ],
   "source": [
    "print(d)"
   ]
  },
  {
   "cell_type": "code",
   "execution_count": 52,
   "id": "ea806e94",
   "metadata": {},
   "outputs": [
    {
     "data": {
      "text/plain": [
       "1.9590156513046475"
      ]
     },
     "execution_count": 52,
     "metadata": {},
     "output_type": "execute_result"
    }
   ],
   "source": [
    "d_max"
   ]
  },
  {
   "cell_type": "code",
   "execution_count": 53,
   "id": "d6960d80",
   "metadata": {},
   "outputs": [
    {
     "data": {
      "text/plain": [
       "1.0137691148594672"
      ]
     },
     "execution_count": 53,
     "metadata": {},
     "output_type": "execute_result"
    }
   ],
   "source": [
    "d_min"
   ]
  },
  {
   "cell_type": "code",
   "execution_count": 54,
   "id": "519bd0a2",
   "metadata": {},
   "outputs": [
    {
     "data": {
      "text/plain": [
       "1.4458303261807801"
      ]
     },
     "execution_count": 54,
     "metadata": {},
     "output_type": "execute_result"
    }
   ],
   "source": [
    "d_mean"
   ]
  },
  {
   "cell_type": "code",
   "execution_count": 83,
   "id": "9aa86a91",
   "metadata": {},
   "outputs": [],
   "source": [
    "f = np.where(d == d_min, 0, np.where(d < d_mean, 25, np.where(d == d_mean, 50, np.where(d < d_max, 75, 100))))"
   ]
  },
  {
   "cell_type": "code",
   "execution_count": 84,
   "id": "407af570",
   "metadata": {},
   "outputs": [
    {
     "name": "stdout",
     "output_type": "stream",
     "text": [
      "[[[ 25  75  75  75  25]\n",
      "  [ 25  75  25  25  75]\n",
      "  [ 25 100  75  25  25]]\n",
      "\n",
      " [[ 25  25  75   0  75]\n",
      "  [ 25  25  25  75  75]\n",
      "  [ 25  75  75  75  25]]]\n"
     ]
    }
   ],
   "source": [
    "print(f)"
   ]
  },
  {
   "cell_type": "markdown",
   "id": "67606d80",
   "metadata": {},
   "source": [
    "#17. Print d and f. Do you have your expected f?\n",
    "For instance, if your d is:\n",
    "array([[[1.85836099, 1.67064465, 1.62576044, 1.40243961, 1.88454931],\n",
    "        [1.75354326, 1.69403643, 1.36729252, 1.61415071, 1.12104981],\n",
    "        [1.72201435, 1.1862918 , 1.87078449, 1.7726778 , 1.88180042]],\n",
    "\n",
    "       [[1.44747908, 1.31673383, 1.02000951, 1.52218947, 1.97066381],\n",
    "        [1.79129243, 1.74983003, 1.96028037, 1.85166831, 1.65450881],\n",
    "        [1.18068344, 1.9587381 , 1.00656599, 1.93402165, 1.73514584]]])\n",
    "\n",
    "Your f should be:\n",
    "array([[[ 75.,  75.,  75.,  25.,  75.],\n",
    "        [ 75.,  75.,  25.,  25.,  25.],\n",
    "        [ 75.,  25.,  75.,  75.,  75.]],\n",
    "\n",
    "       [[ 25.,  25.,  25.,  25., 100.],\n",
    "        [ 75.,  75.,  75.,  75.,  75.],\n",
    "        [ 25.,  75.,   0.,  75.,  75.]]])"
   ]
  },
  {
   "cell_type": "markdown",
   "id": "32dbfc03",
   "metadata": {},
   "source": [
    "Hecho arriba."
   ]
  },
  {
   "cell_type": "markdown",
   "id": "7c54e241",
   "metadata": {},
   "source": [
    "18. Bonus question: instead of using numbers (i.e. 0, 25, 50, 75, and 100), how to use string values \n",
    "(\"A\", \"B\", \"C\", \"D\", and \"E\") to label the array elements? You are expecting the result to be:\n",
    "array([[[ 'D',  'D',  'D',  'B',  'D'],\n",
    "        [ 'D',  'D',  'B',  'B',  'B'],\n",
    "        [ 'D',  'B',  'D',  'D',  'D']],\n",
    "\n",
    "       [[ 'B',  'B',  'B',  'B',  'E'],\n",
    "        [ 'D',  'D',  'D',  'D',  'D'],\n",
    "        [ 'B',  'D',   'A',  'D', 'D']]])"
   ]
  },
  {
   "cell_type": "code",
   "execution_count": 85,
   "id": "749db548",
   "metadata": {},
   "outputs": [],
   "source": [
    "g = np.where(d == d_min, 'A', np.where(d < d_mean, 'B', np.where(d == d_mean, 'C', np.where(d < d_max, 'D', 'E'))))"
   ]
  },
  {
   "cell_type": "code",
   "execution_count": 86,
   "id": "6f2e47ae",
   "metadata": {},
   "outputs": [
    {
     "name": "stdout",
     "output_type": "stream",
     "text": [
      "[[['B' 'D' 'D' 'D' 'B']\n",
      "  ['B' 'D' 'B' 'B' 'D']\n",
      "  ['B' 'E' 'D' 'B' 'B']]\n",
      "\n",
      " [['B' 'B' 'D' 'A' 'D']\n",
      "  ['B' 'B' 'B' 'D' 'D']\n",
      "  ['B' 'D' 'D' 'D' 'B']]]\n"
     ]
    }
   ],
   "source": [
    "print(g)"
   ]
  },
  {
   "cell_type": "code",
   "execution_count": null,
   "id": "40f2b0ca",
   "metadata": {},
   "outputs": [],
   "source": []
  },
  {
   "cell_type": "code",
   "execution_count": null,
   "id": "7c065251",
   "metadata": {},
   "outputs": [],
   "source": []
  },
  {
   "cell_type": "code",
   "execution_count": null,
   "id": "e2722cf1",
   "metadata": {},
   "outputs": [],
   "source": []
  },
  {
   "cell_type": "code",
   "execution_count": null,
   "id": "ce2591d9",
   "metadata": {},
   "outputs": [],
   "source": []
  },
  {
   "cell_type": "code",
   "execution_count": null,
   "id": "f22a8238",
   "metadata": {},
   "outputs": [],
   "source": []
  },
  {
   "cell_type": "code",
   "execution_count": null,
   "id": "ab9a69eb",
   "metadata": {},
   "outputs": [],
   "source": []
  },
  {
   "cell_type": "code",
   "execution_count": null,
   "id": "d6e5240f",
   "metadata": {},
   "outputs": [],
   "source": []
  },
  {
   "cell_type": "code",
   "execution_count": null,
   "id": "dbf5e474",
   "metadata": {},
   "outputs": [],
   "source": []
  }
 ],
 "metadata": {
  "kernelspec": {
   "display_name": "Python 3 (ipykernel)",
   "language": "python",
   "name": "python3"
  },
  "language_info": {
   "codemirror_mode": {
    "name": "ipython",
    "version": 3
   },
   "file_extension": ".py",
   "mimetype": "text/x-python",
   "name": "python",
   "nbconvert_exporter": "python",
   "pygments_lexer": "ipython3",
   "version": "3.9.13"
  }
 },
 "nbformat": 4,
 "nbformat_minor": 5
}
